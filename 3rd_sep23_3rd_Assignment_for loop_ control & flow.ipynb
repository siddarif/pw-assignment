{
 "cells": [
  {
   "cell_type": "raw",
   "id": "d05efe78-e2d3-4d29-84a3-7b07ab5c8e68",
   "metadata": {},
   "source": [
    "Basic Level: for loop Questions"
   ]
  },
  {
   "cell_type": "code",
   "execution_count": null,
   "id": "de1b1218-b80c-492b-8919-3751e2bfb286",
   "metadata": {},
   "outputs": [],
   "source": []
  },
  {
   "cell_type": "raw",
   "id": "188dd9e5-ce4b-45a1-b685-9a858fabc11d",
   "metadata": {},
   "source": [
    "1. Write a Python program to print the numbers from 1 to 10 using a `for` loop."
   ]
  },
  {
   "cell_type": "code",
   "execution_count": 1,
   "id": "ac2b8e48-fe3a-4de4-ab70-8d97600a3d1c",
   "metadata": {},
   "outputs": [
    {
     "name": "stdout",
     "output_type": "stream",
     "text": [
      "1\n",
      "2\n",
      "3\n",
      "4\n",
      "5\n",
      "6\n",
      "7\n",
      "8\n",
      "9\n",
      "10\n"
     ]
    }
   ],
   "source": [
    "##here the for loop extract the integer from range function one by one. first it will take 1 after it 2 this\n",
    "##this loop will continue to till 10. it will not accept 11 because range function doesn't include last elmnt\n",
    "for i in range(1,11):\n",
    "    print(i)"
   ]
  },
  {
   "cell_type": "raw",
   "id": "26613e11-e32b-4de9-b7ea-61a1bc18938f",
   "metadata": {},
   "source": [
    "2. Create a program that calculates the sum of all numbers in a list using a `for` loop."
   ]
  },
  {
   "cell_type": "code",
   "execution_count": 4,
   "id": "e11b491d-b9ca-450f-9a7d-060bff598b9d",
   "metadata": {},
   "outputs": [
    {
     "name": "stdin",
     "output_type": "stream",
     "text": [
      "how many element you want 5\n",
      "enter the element 2\n",
      "enter the element 3\n",
      "enter the element 4\n",
      "enter the element 5\n",
      "enter the element 6\n"
     ]
    },
    {
     "name": "stdout",
     "output_type": "stream",
     "text": [
      "[2, 3, 4, 5, 6]\n",
      "20\n"
     ]
    }
   ],
   "source": [
    "##we first take empty list\n",
    "l=[]\n",
    "##using input functon we'll take numbers of elements in our list\n",
    "num=int(input(\"how many element you want\"))\n",
    "##this for loop will help us to getting elements,this for loop will run at 'num',here num is data given by user\n",
    "for i in range(num):\n",
    "##getting numbers of elements in list    \n",
    "    ent=int(input(\"enter the element\"))\n",
    "##adding elements in list using append funcion    \n",
    "    l.append(ent)\n",
    "##getting list \n",
    "print(l)\n",
    "##creating a empty variable for stornig the sum of the numbers of list\n",
    "s=0\n",
    "##this for loop iterate the numbers of list\n",
    "for val in l:\n",
    "##adding and storing the sum of numbers of list in 's'\n",
    "    s+=val\n",
    "print(s)    "
   ]
  },
  {
   "cell_type": "raw",
   "id": "33ce2f51-d3b7-49ca-828c-bbe076f49260",
   "metadata": {},
   "source": [
    "3. Write a program to print the characters of a string in reverse order using a `for` loop."
   ]
  },
  {
   "cell_type": "code",
   "execution_count": 9,
   "id": "ff635b6c-a718-4f39-ab6a-cc8ecc54731c",
   "metadata": {},
   "outputs": [
    {
     "name": "stdin",
     "output_type": "stream",
     "text": [
      "Enter a string Aware\n"
     ]
    },
    {
     "name": "stdout",
     "output_type": "stream",
     "text": [
      "e\n",
      "r\n",
      "a\n",
      "w\n",
      "A\n"
     ]
    }
   ],
   "source": [
    "##using input function we will take data from user\n",
    "char=input(\"Enter a string\")\n",
    "##this slice function will reverse the order of string\n",
    "for i in char[::-1]:\n",
    "##this reverse string will store in i, one by one using for loop\n",
    "    print(i)\n",
    "    "
   ]
  },
  {
   "cell_type": "raw",
   "id": "fa497880-8bad-4f32-be4f-678cb65046e2",
   "metadata": {},
   "source": [
    "4. Develop a program that finds the factorial of a given number using a `for` loop."
   ]
  },
  {
   "cell_type": "code",
   "execution_count": 12,
   "id": "033b2df5-7808-47df-ac42-689982e6afeb",
   "metadata": {},
   "outputs": [
    {
     "name": "stdin",
     "output_type": "stream",
     "text": [
      "Enter a number 4\n"
     ]
    },
    {
     "name": "stdout",
     "output_type": "stream",
     "text": [
      "24\n",
      "factorial of 4 is 24\n"
     ]
    }
   ],
   "source": [
    "##using input function we'll take data from user\n",
    "num=int(input(\"Enter a number\"))\n",
    "##creating a variable\n",
    "fact=1\n",
    "##using for loop through range function, we started our range from 1 and 'num+1' help us for taking last number i.e\n",
    "##num\n",
    "for i in range(1,num+1):\n",
    "##multiplying i with variable fact, it will multiplied with 'i' one by one and the new data store in fact variable\n",
    "    fact=fact*i\n",
    "##after ending of for loop we'll get the factorial of number     \n",
    "print(fact) \n",
    "print(f\"factorial of {num} is {fact}\")\n",
    "    "
   ]
  },
  {
   "cell_type": "raw",
   "id": "0c00d72c-2cab-47d7-89d0-1fdd2089f2c9",
   "metadata": {},
   "source": [
    "5. Create a program to print the multiplication table of a given number using a `for` loop."
   ]
  },
  {
   "cell_type": "code",
   "execution_count": 12,
   "id": "34b01457-25e2-4e58-83de-00339b8572c8",
   "metadata": {},
   "outputs": [
    {
     "name": "stdin",
     "output_type": "stream",
     "text": [
      "Enter a number 5\n"
     ]
    },
    {
     "name": "stdout",
     "output_type": "stream",
     "text": [
      "multipication table of 5 is\n",
      "5*1=5\n",
      "5*2=10\n",
      "5*3=15\n",
      "5*4=20\n",
      "5*5=25\n",
      "5*6=30\n",
      "5*7=35\n",
      "5*8=40\n",
      "5*9=45\n",
      "5*10=50\n"
     ]
    }
   ],
   "source": [
    "num=int(input(\"Enter a number\"))\n",
    "print(f\"multipication table of {num} is\")\n",
    "for num1 in range(1,11):\n",
    "    table=num*num1\n",
    "    print(f\"{num}*{num1}={table}\")"
   ]
  },
  {
   "cell_type": "raw",
   "id": "831e309d-d67c-47b3-806b-3fcb307293e7",
   "metadata": {},
   "source": [
    "6. Write a program that counts the number of even and odd numbers in a list using a `for` loop."
   ]
  },
  {
   "cell_type": "code",
   "execution_count": 22,
   "id": "ddb1e459-6012-4a46-b753-173e836b2fa3",
   "metadata": {},
   "outputs": [
    {
     "name": "stdin",
     "output_type": "stream",
     "text": [
      "How many element you ant in your list: 6\n",
      "Enter numbers 1\n",
      "Enter numbers 2\n",
      "Enter numbers 3\n",
      "Enter numbers 4\n",
      "Enter numbers 5\n",
      "Enter numbers 6\n"
     ]
    },
    {
     "name": "stdout",
     "output_type": "stream",
     "text": [
      "[1, 2, 3, 4, 5, 6]\n",
      "number of even numbers in list is 3\n",
      "number of odd numbers in list is 3\n"
     ]
    }
   ],
   "source": [
    "##creating empty list\n",
    "l=[]\n",
    "##getting numers of elements we want in list\n",
    "num=int(input(\"How many element you ant in your list:\"))\n",
    "##using for loop we'll get numbers of elements\n",
    "for i in range(num):\n",
    "    ele=int(input(\"Enter numbers\"))\n",
    "##adding elements in list\n",
    "    l.append(ele)\n",
    "##getting list\n",
    "print(l) \n",
    "##creating empty variable\n",
    "even=0\n",
    "odd=0\n",
    "##getting elements one by one\n",
    "for val in l:\n",
    "##condition for even number i.e. if even number divided by two its remainder is always zero and for odd is 1\n",
    "    if val%2==0:\n",
    "##if number is even '1' will add in even variable        \n",
    "        even+=1\n",
    "    else:\n",
    "##if number is odd '1' will add in odd variable  \n",
    "        odd+=1\n",
    "print(\"number of even numbers in list is\",even)  \n",
    "print(\"number of odd numbers in list is\",odd)  "
   ]
  },
  {
   "cell_type": "raw",
   "id": "57d3c029-8b2a-4ae5-b240-76d5a4a4b111",
   "metadata": {},
   "source": [
    "7. Develop a program that prints the squares of numbers from 1 to 5 using a `for` loop."
   ]
  },
  {
   "cell_type": "code",
   "execution_count": 3,
   "id": "3f76314b-301b-4c2a-a8b3-6a93d4dec39a",
   "metadata": {},
   "outputs": [
    {
     "name": "stdout",
     "output_type": "stream",
     "text": [
      "1*1=1\n",
      "2*2=4\n",
      "3*3=9\n",
      "4*4=16\n",
      "5*5=25\n"
     ]
    }
   ],
   "source": [
    "##taking numbers from 1 to 5 using for loopand range function\n",
    "for i in range(1,6):\n",
    "    print(f\"{i}*{i}={i*i}\")\n",
    "    "
   ]
  },
  {
   "cell_type": "raw",
   "id": "2a601328-0a13-4abd-9c7d-4b895c6aa9ce",
   "metadata": {},
   "source": [
    "8. Create a program to find the length of a string without using the `len()` function."
   ]
  },
  {
   "cell_type": "code",
   "execution_count": 6,
   "id": "5a0f7e23-5910-4cd1-9721-b828d1fe9f8f",
   "metadata": {},
   "outputs": [
    {
     "name": "stdin",
     "output_type": "stream",
     "text": [
      "enter a string Constitution\n"
     ]
    },
    {
     "name": "stdout",
     "output_type": "stream",
     "text": [
      "length of the string is 12\n"
     ]
    }
   ],
   "source": [
    "##taking dtring from user\n",
    "string=input(\"enter a string:\")\n",
    "##creating a empty variable\n",
    "count=0\n",
    "##this for loop iterate our string one by one for each alphabet of our string the count variable increased by one \n",
    "##this for loop will run till the last alphabet of our string \n",
    "for i in string:\n",
    "##here count variable increased by one for each alphabet come after for loop    \n",
    "    count+=1\n",
    "print(\"length of the string is\",count)    \n",
    "    "
   ]
  },
  {
   "cell_type": "raw",
   "id": "2f71a479-5f7a-484d-95fe-daff98e026f9",
   "metadata": {},
   "source": [
    "9. Write a program that calculates the average of a list of numbers using a `for` loop."
   ]
  },
  {
   "cell_type": "code",
   "execution_count": 4,
   "id": "30fa525f-4214-4dad-8804-10801fabf233",
   "metadata": {},
   "outputs": [
    {
     "name": "stdin",
     "output_type": "stream",
     "text": [
      "how many elements you want 5\n",
      "Enter the numbers 1\n",
      "Enter the numbers 2\n",
      "Enter the numbers 3\n",
      "Enter the numbers 4\n",
      "Enter the numbers 5\n"
     ]
    },
    {
     "name": "stdout",
     "output_type": "stream",
     "text": [
      "[1, 2, 3, 4, 5]\n",
      "average of [1, 2, 3, 4, 5] is 3.0 \n"
     ]
    }
   ],
   "source": [
    "l=[]\n",
    "ele=int(input(\"how many elements you want\"))\n",
    "for num in range(ele):\n",
    "    s=int(input(\"Enter the numbers\"))\n",
    "    l.append(s)\n",
    "print(l)  \n",
    "add=0\n",
    "for val in l:\n",
    "    add+=val\n",
    "avg=add/ele\n",
    "print(f\"average of {l} is {avg} \")\n",
    "    "
   ]
  },
  {
   "cell_type": "raw",
   "id": "63713536-b6e3-4ad4-96e1-9a8a17b688b7",
   "metadata": {},
   "source": [
    "10. Develop a program that prints the first `n` Fibonacci numbers using a `for` loop."
   ]
  },
  {
   "cell_type": "code",
   "execution_count": 1,
   "id": "12048841-2980-4d03-9c6e-8da96320f1ae",
   "metadata": {},
   "outputs": [
    {
     "name": "stdin",
     "output_type": "stream",
     "text": [
      "how many fibbonacci numbers you want: 10\n"
     ]
    },
    {
     "name": "stdout",
     "output_type": "stream",
     "text": [
      "0 1 1 2 3 5 8 13 21 34 "
     ]
    }
   ],
   "source": [
    "##getting number from user\n",
    "num=int(input('how many fibbonacci numbers you want:'))\n",
    "a=0\n",
    "b=1\n",
    "c=0\n",
    "##this for loop will run 'num'times\n",
    "for i in range(num):\n",
    "##first the value of c is printed i.e. 0 using end function it will print in horizontally \n",
    "    print(c,end=' ')\n",
    "##here the value of a swap to b and the value of b swap to c. using this swap our loop will run & give us\n",
    "##fibbonacci numbers\n",
    "    a=b\n",
    "    b=c\n",
    "    c=a+b"
   ]
  },
  {
   "cell_type": "raw",
   "id": "0afaed13-4722-4cb0-b94c-0eb4f74238ff",
   "metadata": {},
   "source": [
    "INTERMEDIATE LEVEL QUESTIONS"
   ]
  },
  {
   "cell_type": "raw",
   "id": "f40bc622-e851-4ad4-a781-28f23b70f692",
   "metadata": {},
   "source": [
    "11. Write a program to check if a given list contains any duplicates using a `for` loop."
   ]
  },
  {
   "cell_type": "code",
   "execution_count": 1,
   "id": "1c0c8636-ac7b-4d8e-acda-09a912393d9c",
   "metadata": {},
   "outputs": [
    {
     "name": "stdin",
     "output_type": "stream",
     "text": [
      "how many elements you want in yoyur list 7\n",
      "enter numbers 9\n",
      "enter numbers 8\n",
      "enter numbers 9\n",
      "enter numbers 8\n",
      "enter numbers 6\n",
      "enter numbers 6\n",
      "enter numbers 1\n"
     ]
    },
    {
     "name": "stdout",
     "output_type": "stream",
     "text": [
      "[9, 8, 9, 8, 6, 6, 1]\n",
      "the duplicate number is 9, 8, 6\n"
     ]
    }
   ],
   "source": [
    "##creating list\n",
    "l=[]\n",
    "num=int(input(\"how many elements you want in yoyur list\"))\n",
    "for i in range(num):\n",
    "    ele=int(input('enter numbers'))\n",
    "    l.append(ele)\n",
    "print(l)\n",
    "##creating two empty lists\n",
    "uniquelist=[]\n",
    "duplicatelist=[]\n",
    "##using for loop we iterae the list\n",
    "for val in l:\n",
    "##if the below condition is satisfied it'll store 'val' in duplicatelist using append method \n",
    "    if val in uniquelist:\n",
    "        duplicatelist.append(val)\n",
    "##if the above condition is not satisfied it'll store 'val' in uniquelist using append method\n",
    "    else:\n",
    "        uniquelist.append(val)\n",
    "##using below method we typecast our list in string        \n",
    "x=str(duplicatelist) \n",
    "##using replace function we remove both bracket of list, because we only want the duplicate values\n",
    "x=x.replace(\"[\",\"\")\n",
    "x=x.replace(\"]\",\"\")\n",
    "print(f\"the duplicate number is {x}\")        "
   ]
  },
  {
   "cell_type": "raw",
   "id": "2aba815c-c1c4-4801-8cb7-d33d1cadd43b",
   "metadata": {},
   "source": [
    "12. Create a program that prints the prime numbers in a given range using a `for` loop."
   ]
  },
  {
   "cell_type": "code",
   "execution_count": 1,
   "id": "f93a7b0a-dac5-4fcb-99e3-39fc5b91bf95",
   "metadata": {},
   "outputs": [
    {
     "name": "stdin",
     "output_type": "stream",
     "text": [
      "Enter the range 10\n"
     ]
    },
    {
     "name": "stdout",
     "output_type": "stream",
     "text": [
      "2\n",
      "3\n",
      "5\n",
      "7\n"
     ]
    }
   ],
   "source": [
    "##using input function we'll get range for prime number\n",
    "num=int(input(\"Enter the range\"))\n",
    "##using for loop we can iterate variable i upto 'num'\n",
    "for i in range(2,num+1):\n",
    "##using inner loop we can iterate j variable which will iterate at less then 1 of number i    \n",
    "    for j in range(2,i):\n",
    "##checking condiition for prime number        \n",
    "        if i%j==0:\n",
    "##if the above condition true the loop will break        \n",
    "            break\n",
    "##we can put this else statement outside of inner loop but inside of outer loop due to that the prime number\n",
    "##will print only one time\n",
    "    else:\n",
    "        print(i)"
   ]
  },
  {
   "cell_type": "raw",
   "id": "eb63ecf0-ed9f-4f30-b541-6146527ceef6",
   "metadata": {},
   "source": [
    "13. Develop a program that counts the number of vowels in a string using a `for` loop."
   ]
  },
  {
   "cell_type": "code",
   "execution_count": 11,
   "id": "e46fcc36-312e-45dc-8437-aaaa45ed675d",
   "metadata": {},
   "outputs": [
    {
     "name": "stdin",
     "output_type": "stream",
     "text": [
      "enter a statement Am the kIng of thE jungLE\n"
     ]
    },
    {
     "name": "stdout",
     "output_type": "stream",
     "text": [
      "the number of vowel in string is 7\n"
     ]
    }
   ],
   "source": [
    "##getting data from user\n",
    "stmnt=input(\"enter a statement\")\n",
    "##converting the string in lower case\n",
    "statement=stmnt.lower()\n",
    "##creating a variable \n",
    "count=0\n",
    "##creating a list of vowels\n",
    "l=['a','e','i','o','u']\n",
    "##iterating the statement using for loop\n",
    "for i in statement:\n",
    "##condition for checking vowels    \n",
    "    if i in l:\n",
    "##if vowels present in string the count variable increment by 1        \n",
    "        count+=1\n",
    "print(f\"the number of vowel in string is {count}\")        "
   ]
  },
  {
   "cell_type": "raw",
   "id": "fcc75088-00f1-4722-9fee-93e6f0a3fc8c",
   "metadata": {},
   "source": [
    "14. Write a program to find the maximum element in a 2D list using a nested `for` loop."
   ]
  },
  {
   "cell_type": "code",
   "execution_count": 23,
   "id": "0a500347-87e5-43c4-932e-026bee33ac40",
   "metadata": {},
   "outputs": [
    {
     "name": "stdout",
     "output_type": "stream",
     "text": [
      "120.25\n"
     ]
    }
   ],
   "source": [
    "##creating a empty list\n",
    "list2=[]\n",
    "##creating a function for converting nested list in simple list\n",
    "def maxelement(list1):\n",
    "##iterating the element of list1    \n",
    "    for i in list1:\n",
    "##condition for checking nested list        \n",
    "        if type(i)==list:\n",
    "##calliing the function for iterating the list insise the list         \n",
    "            maxelement(i)\n",
    "        else:\n",
    "##if the element of the list is not a list we'll append the data in list2            \n",
    "            list2.append(i)\n",
    "##return the function for maximum element of list2    \n",
    "    return max(list2)   \n",
    "\n",
    "list1=[2,5,[3,6,[5,9],120.25],9,1]\n",
    "print(maxelement(list1))"
   ]
  },
  {
   "cell_type": "raw",
   "id": "7c166335-da97-4618-b9f3-5a922d720415",
   "metadata": {},
   "source": [
    "15. Create a program that removes all occurrences of a specific element from a list using a `for` loop."
   ]
  },
  {
   "cell_type": "code",
   "execution_count": 3,
   "id": "30cc4475-4642-41c1-80d1-827bdf37e8b4",
   "metadata": {},
   "outputs": [
    {
     "name": "stdin",
     "output_type": "stream",
     "text": [
      "how many elements you want  6\n",
      "enter elements 2\n",
      "enter elements 4\n",
      "enter elements 2\n",
      "enter elements 4\n",
      "enter elements 4\n",
      "enter elements 6\n"
     ]
    },
    {
     "name": "stdout",
     "output_type": "stream",
     "text": [
      "['2', '4', '2', '4', '4', '6']\n",
      "{'2', '4', '6'}\n",
      "['2', '4', '6']\n"
     ]
    }
   ],
   "source": [
    "##creating a emoty list\n",
    "list1=[]\n",
    "##getting input from user \n",
    "num=int(input(\"how many elements you want \"))\n",
    "##using for loop\n",
    "for i in range(num):\n",
    "##getting input from user for store it in list\n",
    "    ele=input(\"enter elements\")\n",
    "##storing the values in lit    \n",
    "    list1.append(ele)\n",
    "print(list1)\n",
    "##this set will remove all the occurence of elements in list\n",
    "l=set(list1)\n",
    "print(l)\n",
    "##converting the above set in list\n",
    "m=list(l)\n",
    "print(m)"
   ]
  },
  {
   "cell_type": "raw",
   "id": "e67f2b1a-4da9-4b70-81f6-b976762389e4",
   "metadata": {},
   "source": [
    "16.Develop a program that generates a multiplication table for numbers from 1 to 5 using a nested `for` loop."
   ]
  },
  {
   "cell_type": "code",
   "execution_count": 6,
   "id": "100d9d2f-96e6-4317-8d03-25d582cb5ebf",
   "metadata": {},
   "outputs": [
    {
     "name": "stdin",
     "output_type": "stream",
     "text": [
      "enter the number at ehich you want the table 5\n"
     ]
    },
    {
     "name": "stdout",
     "output_type": "stream",
     "text": [
      "1*1=1  |  2*1=2  |  3*1=3  |  4*1=4  |  5*1=5  |  \n",
      "\n",
      "1*2=2  |  2*2=4  |  3*2=6  |  4*2=8  |  5*2=10  |  \n",
      "\n",
      "1*3=3  |  2*3=6  |  3*3=9  |  4*3=12  |  5*3=15  |  \n",
      "\n",
      "1*4=4  |  2*4=8  |  3*4=12  |  4*4=16  |  5*4=20  |  \n",
      "\n",
      "1*5=5  |  2*5=10  |  3*5=15  |  4*5=20  |  5*5=25  |  \n",
      "\n",
      "1*6=6  |  2*6=12  |  3*6=18  |  4*6=24  |  5*6=30  |  \n",
      "\n",
      "1*7=7  |  2*7=14  |  3*7=21  |  4*7=28  |  5*7=35  |  \n",
      "\n",
      "1*8=8  |  2*8=16  |  3*8=24  |  4*8=32  |  5*8=40  |  \n",
      "\n",
      "1*9=9  |  2*9=18  |  3*9=27  |  4*9=36  |  5*9=45  |  \n",
      "\n",
      "1*10=10  |  2*10=20  |  3*10=30  |  4*10=40  |  5*10=50  |  \n",
      "\n"
     ]
    }
   ],
   "source": [
    "num=int(input(\"enter the number at ehich you want the table\"))\n",
    "for i in range(1,11):\n",
    "    for j in range(1,num+1):\n",
    "        print(f\"{j}*{i}={j*i}\",end='  |  ')  \n",
    "    print('\\n')"
   ]
  },
  {
   "cell_type": "raw",
   "id": "00aab3d9-a209-4c40-b27c-92f284311c15",
   "metadata": {},
   "source": [
    "17.Write a program that converts a list of Fahrenheit temperatures to Celsius using a `for` loop."
   ]
  },
  {
   "cell_type": "code",
   "execution_count": 13,
   "id": "f65d8a14-f749-41a6-96ba-3a44667b3c31",
   "metadata": {},
   "outputs": [
    {
     "name": "stdin",
     "output_type": "stream",
     "text": [
      "how many elements you want 4\n",
      "write the temperature in fahrenheit 80.49\n",
      "write the temperature in fahrenheit 30.9\n",
      "write the temperature in fahrenheit 63.90\n",
      "write the temperature in fahrenheit 18.18\n"
     ]
    },
    {
     "name": "stdout",
     "output_type": "stream",
     "text": [
      "Temperature in fahrenheit is [80.49, 30.9, 63.9, 18.18]\n",
      "Temperature in celcius is [26.938888888888886, -0.6111111111111119, 17.72222222222222, -7.677777777777777]\n"
     ]
    }
   ],
   "source": [
    "##creating an empty list\n",
    "fahrenheit=[]\n",
    "ent=int(input(\"how many elements you want\"))\n",
    "for i in range(ent):\n",
    "    num=float(input(\"write the temperature in fahrenheit\"))\n",
    "##storing the data in fahrenheit list    \n",
    "    fahrenheit.append(num)\n",
    "print(\"Temperature in fahrenheit is\",fahrenheit)\n",
    "celcius=[]\n",
    "for j in fahrenheit:\n",
    "##using formula for converting fahrenheit into celcius    \n",
    "    celci=(j-32)*5/9\n",
    "    celcius.append(celci)\n",
    "print(\"Temperature in celcius is\",celcius)    "
   ]
  },
  {
   "cell_type": "raw",
   "id": "627f6ec0-092a-4cbc-852c-14b76d6239e0",
   "metadata": {},
   "source": [
    "18.Create a program to print the common elements from two lists using a `for` loop."
   ]
  },
  {
   "cell_type": "code",
   "execution_count": 21,
   "id": "b9d84acf-0a94-486c-b280-a6f1851637ac",
   "metadata": {},
   "outputs": [
    {
     "name": "stdin",
     "output_type": "stream",
     "text": [
      "enter a list [1,2,3,4,5,6]\n",
      "ente a list [6,4,2,7,8,9]\n"
     ]
    },
    {
     "name": "stdout",
     "output_type": "stream",
     "text": [
      "[\n",
      ",\n",
      "2\n",
      ",\n",
      ",\n",
      "4\n",
      ",\n",
      ",\n",
      "6\n",
      "]\n"
     ]
    }
   ],
   "source": [
    "##taking impu from user\n",
    "l1=list(input(\"enter a list\"))\n",
    "l2=list(input(\"ente a list\"))\n",
    "for i in l1:\n",
    "##checking condition for common element in list 1 and 2    \n",
    "    if i in l2:\n",
    "        print(i)"
   ]
  },
  {
   "cell_type": "raw",
   "id": "b3ea2446-1aa1-4434-bc64-822b1b149175",
   "metadata": {},
   "source": [
    "19. Develop a program that prints the pattern of right-angled triangles using a `for` loop. Use ‘*’ to draw the\n",
    "pattern"
   ]
  },
  {
   "cell_type": "code",
   "execution_count": 3,
   "id": "6d3dea8a-fddc-4f70-9478-636a0283fa8d",
   "metadata": {},
   "outputs": [
    {
     "name": "stdout",
     "output_type": "stream",
     "text": [
      "*\n",
      "**\n",
      "***\n",
      "****\n",
      "*****\n",
      "******\n"
     ]
    }
   ],
   "source": [
    "##iterating the range\n",
    "for i in range(6):    \n",
    "    for j in range(i+1):\n",
    "##printing * and end='' help us to print the * in same line while the running of loop        \n",
    "        print('*',end='')\n",
    "##this print function help us to printing new line        \n",
    "    print()    "
   ]
  },
  {
   "cell_type": "raw",
   "id": "cc520d06-eeef-49a2-9fd0-5ae64bc44336",
   "metadata": {},
   "source": [
    "20. Write a program to find the greatest common divisor (GCD) of two numbers using a `for` loop."
   ]
  },
  {
   "cell_type": "code",
   "execution_count": 6,
   "id": "c68c339b-f0c5-4e6c-9da5-c496f16f3316",
   "metadata": {},
   "outputs": [
    {
     "name": "stdin",
     "output_type": "stream",
     "text": [
      "Enter 1st number 40\n",
      "Enter 2nd number 60\n"
     ]
    },
    {
     "name": "stdout",
     "output_type": "stream",
     "text": [
      "The GCD of given number is 20\n"
     ]
    }
   ],
   "source": [
    "##getting two numbers from user\n",
    "num1=int(input(\"Enter 1st number\"))\n",
    "num2=int(input(\"Enter 2nd number\"))\n",
    "##checking condition for lesser number\n",
    "if num1>num2:\n",
    "    mn=num2\n",
    "else:\n",
    "    mn=num1\n",
    "##iterating the for loop from 1 to minimum number    \n",
    "for i in range(1,mn+1):\n",
    "##condition for gcd of the number    \n",
    "    if num1%i==0 and num2%i==0:\n",
    "##sroring the greatest common divisior in hcf variable        \n",
    "        hcf=i\n",
    "print(f\"The GCD of given number is {hcf}\")        \n",
    "    "
   ]
  },
  {
   "cell_type": "code",
   "execution_count": null,
   "id": "7d71efa4-78cc-4e5a-8397-adcf85b1212f",
   "metadata": {},
   "outputs": [],
   "source": [
    "ADVANCE LEVEL QUESIONS"
   ]
  },
  {
   "cell_type": "raw",
   "id": "44a52037-4f99-453c-836d-9661dc5e06c4",
   "metadata": {},
   "source": [
    "21. Create a program that calculates the sum of the digits of numbers in a list using a list comprehension."
   ]
  },
  {
   "cell_type": "code",
   "execution_count": 15,
   "id": "c8b171a9-3916-4530-89aa-f065ebd33474",
   "metadata": {},
   "outputs": [
    {
     "name": "stdin",
     "output_type": "stream",
     "text": [
      "how many elements you want in your list 3\n",
      "enter the element 321\n",
      "enter the element 654\n",
      "enter the element 987\n"
     ]
    },
    {
     "name": "stdout",
     "output_type": "stream",
     "text": [
      "['321', '654', '987']\n",
      "[6, 15, 24]\n"
     ]
    }
   ],
   "source": [
    "##getting input from user\n",
    "num=int(input(\"how many elements you want in your list\"))\n",
    "##creating the list \n",
    "list1=[input(\"enter the element\") for i in range(num)]\n",
    "print(list1)\n",
    "##using nested loop in list comprehension\n",
    "list2=[sum(int(k) for k in str(j)) for j in list1]\n",
    "print(list2)"
   ]
  },
  {
   "cell_type": "raw",
   "id": "c5231c0b-7d18-4215-ade3-8b69d22f0bfd",
   "metadata": {},
   "source": [
    "22. Write a program to find the prime factors of a given number using a `for` loop and list comprehension."
   ]
  },
  {
   "cell_type": "code",
   "execution_count": 32,
   "id": "9ef29bc6-e8f5-405e-802b-97e3433cbbe3",
   "metadata": {},
   "outputs": [
    {
     "name": "stdin",
     "output_type": "stream",
     "text": [
      "Enter a number 20\n"
     ]
    },
    {
     "name": "stdout",
     "output_type": "stream",
     "text": [
      "[2, 5]\n"
     ]
    }
   ],
   "source": [
    "##getting input fro user\n",
    "num=int(input(\"Enter a number\"))\n",
    "##using nested loops for checking divisibility and prime number here the all function will check for all the values\n",
    "##of i which are prime or not\n",
    "l=[i for i in range(2,num+1) if num %i==0 and all(i%j!=0 for j in range(2,i))]\n",
    "print(l)"
   ]
  },
  {
   "cell_type": "raw",
   "id": "8c5815a6-b114-42ea-8517-ed8d8e13a335",
   "metadata": {},
   "source": [
    "23. Develop a program that extracts unique elements from a list and stores them in a new list using a list\n",
    "comprehension."
   ]
  },
  {
   "cell_type": "code",
   "execution_count": 2,
   "id": "d9f4122a-9772-44a5-b494-39013fa7e76b",
   "metadata": {},
   "outputs": [
    {
     "name": "stdin",
     "output_type": "stream",
     "text": [
      "How many elements you want in your list 5\n",
      "Enter the elements 12\n",
      "Enter the elements 23\n",
      "Enter the elements 12\n",
      "Enter the elements 34\n",
      "Enter the elements 23\n"
     ]
    },
    {
     "name": "stdout",
     "output_type": "stream",
     "text": [
      "[12, 23, 12, 34, 23]\n",
      "[12, 23, 34]\n"
     ]
    }
   ],
   "source": [
    "##getting input from user\n",
    "num=int(input(\"How many elements you want in your list\"))\n",
    "##creating the list\n",
    "l=[int(input(\"Enter the elements\")) for i in range(num)]\n",
    "print(l)\n",
    "uniquelist=[]\n",
    "##creating the list of unique elements\n",
    "newlist=[uniquelist.append(j) for j in l if j not in uniquelist] \n",
    "##if we print the newlist then it'll give us none as output\n",
    "print(uniquelist)"
   ]
  },
  {
   "cell_type": "raw",
   "id": "7e26daa7-390c-4631-8440-dbd61b98531f",
   "metadata": {},
   "source": [
    "24. Create a program that generates a list of all palindromic numbers up to a specified limit using a list\n",
    "comprehension."
   ]
  },
  {
   "cell_type": "code",
   "execution_count": 3,
   "id": "e9029bda-ea08-4ea3-ad66-efe186fb5b75",
   "metadata": {},
   "outputs": [
    {
     "name": "stdin",
     "output_type": "stream",
     "text": [
      "enter the limit at whch you want palindromic number 121\n"
     ]
    },
    {
     "name": "stdout",
     "output_type": "stream",
     "text": [
      "list of palindromic numbers are [1, 2, 3, 4, 5, 6, 7, 8, 9, 11, 22, 33, 44, 55, 66, 77, 88, 99, 101, 111, 121]\n"
     ]
    }
   ],
   "source": [
    "##getting input from user \n",
    "limit=int(input(\"enter the limit at whch you want palindromic number\"))\n",
    "##checking conditions for palindromic number i.e.it remains the same when its digits are reversed.\n",
    "palindrome=[num for num in range(1,limit+1) if str(num)==str(num)[::-1]]\n",
    "print(f\"list of palindromic numbers are {palindrome}\")"
   ]
  },
  {
   "cell_type": "raw",
   "id": "c5c45212-9601-4eb3-9569-7de7bd18e861",
   "metadata": {},
   "source": [
    "25. Write a program to flatten a nested list using list comprehension."
   ]
  },
  {
   "cell_type": "code",
   "execution_count": 14,
   "id": "13c32cd6-0e86-4fad-9f29-20df3e9a7999",
   "metadata": {},
   "outputs": [
    {
     "name": "stdout",
     "output_type": "stream",
     "text": [
      "flatten list [3, 4, 'a', 'r', 34, '4', 99, '32', 'j', 7, 8]\n"
     ]
    }
   ],
   "source": [
    "##getting input from user\n",
    "num=[[3,4,'a'],['r',34,'4',99],['32','j'],[7,8]]\n",
    "##iterate the nested list throough list omprehension\n",
    "flattenlist=[element for innerlist in num for element in innerlist]\n",
    "print('flatten list',flattenlist)"
   ]
  },
  {
   "cell_type": "raw",
   "id": "da4b4fc8-499f-48ea-ba93-b9fa3780014e",
   "metadata": {},
   "source": [
    "26. Develop a program that computes the sum of even and odd numbers in a list separately using list\n",
    "comprehension."
   ]
  },
  {
   "cell_type": "code",
   "execution_count": 12,
   "id": "07bbb787-6c18-465b-8617-ad33ef496aa8",
   "metadata": {},
   "outputs": [
    {
     "name": "stdin",
     "output_type": "stream",
     "text": [
      "how many elements you want in your list 5\n",
      "Enter the elements 10\n",
      "Enter the elements 12\n",
      "Enter the elements 11\n",
      "Enter the elements 13\n",
      "Enter the elements 2\n"
     ]
    },
    {
     "name": "stdout",
     "output_type": "stream",
     "text": [
      "[10, 12, 11, 13, 2]\n",
      "sum of odd numbers are 24 and sum of even numbers are 24\n"
     ]
    }
   ],
   "source": [
    "##getting input from user\n",
    "ele=int(input(\"how many elements you want in your list\"))\n",
    "lis=[int(input(\"Enter the elements\")) for i in range(ele)]\n",
    "print(lis)\n",
    "oddlist=[]\n",
    "evenlist=[]\n",
    "##checking condition for odd and even numbers\n",
    "num=[evenlist.append(j) if j%2==0 else oddlist.append(j) for j in lis]\n",
    "##using sum method pritnting the sum of odd and even numbers\n",
    "print(f\"sum of odd numbers are {sum(oddlist)} and sum of even numbers are {sum(evenlist)}\")\n"
   ]
  },
  {
   "cell_type": "raw",
   "id": "bda69eef-e769-4669-a22d-709e61623fb1",
   "metadata": {},
   "source": [
    "27. Create a program that generates a list of squares of odd numbers between 1 and 10 using list\n",
    "comprehension."
   ]
  },
  {
   "cell_type": "code",
   "execution_count": 4,
   "id": "a842054b-9168-475f-857e-1df2e450e6cd",
   "metadata": {},
   "outputs": [
    {
     "name": "stdout",
     "output_type": "stream",
     "text": [
      "[1, 9, 25, 49, 81]\n"
     ]
    }
   ],
   "source": [
    "num=[i**2 for i in range(1,11) if i%2!=0]\n",
    "print(num)"
   ]
  },
  {
   "cell_type": "raw",
   "id": "abdab019-3449-4a60-b343-713b41e9aeda",
   "metadata": {},
   "source": [
    "28. Write a program that combines two lists into a dictionary using list comprehension."
   ]
  },
  {
   "cell_type": "code",
   "execution_count": 9,
   "id": "b0315736-1358-4bc4-b330-ba077096518b",
   "metadata": {},
   "outputs": [
    {
     "name": "stdin",
     "output_type": "stream",
     "text": [
      "enter the keys 4532\n",
      "enter the values ARIF\n"
     ]
    },
    {
     "name": "stdout",
     "output_type": "stream",
     "text": [
      "{'4': 'A', '5': 'R', '3': 'I', '2': 'F'}\n"
     ]
    }
   ],
   "source": [
    "##getting keys from user \n",
    "keys=list(input(\"enter the keys\"))\n",
    "##getting values from user\n",
    "values=list(input(\"enter the values\"))\n",
    "##converting list of keys and values in dictionary by dict comprehension\n",
    "dict={keys[i]:values[i] for i in range(len(keys))}\n",
    "print(dict)"
   ]
  },
  {
   "cell_type": "raw",
   "id": "dd56a2af-df3e-4ff4-8ac1-9f1e8e04f257",
   "metadata": {},
   "source": [
    "29. Develop a program that extracts the vowels from a string and stores them in a list using list comprehension."
   ]
  },
  {
   "cell_type": "code",
   "execution_count": 22,
   "id": "18756151-24e4-455e-8872-284cfd587c0e",
   "metadata": {},
   "outputs": [
    {
     "name": "stdin",
     "output_type": "stream",
     "text": [
      "Enter the string hey bro hello\n"
     ]
    },
    {
     "name": "stdout",
     "output_type": "stream",
     "text": [
      "['e', 'o', 'e', 'o']\n"
     ]
    }
   ],
   "source": [
    "##getting string from user\n",
    "string=str(input(\"Enter the string\"))\n",
    "##checking if vowels are present in string using in operator\n",
    "vowels=[i for i in string if i in 'aeiou']\n",
    "print(vowels)"
   ]
  },
  {
   "cell_type": "raw",
   "id": "b056d2b5-20de-4c0b-b747-da19b1bac59a",
   "metadata": {},
   "source": [
    "30. Create a program that removes all non-numeric characters from a list of strings using list comprehension."
   ]
  },
  {
   "cell_type": "code",
   "execution_count": 6,
   "id": "cce4e437-800e-4ce2-bdf2-8b016161b383",
   "metadata": {},
   "outputs": [
    {
     "name": "stdin",
     "output_type": "stream",
     "text": [
      "enter the limit 3\n",
      "enter the element we64\n",
      "enter the element rwe12\n",
      "enter the element fu67\n"
     ]
    },
    {
     "name": "stdout",
     "output_type": "stream",
     "text": [
      "['we64', 'rwe12', 'fu67']\n",
      "['64', '12', '67']\n"
     ]
    }
   ],
   "source": [
    "##getting input from user\n",
    "lis=int(input(\"enter the limit\"))\n",
    "##creating list\n",
    "lis1=[input(\"enter the element\") for i in range(lis)]\n",
    "print(lis1)\n",
    "##removing non-numeric characters from string by using isdigit function and concatenate through join function\n",
    "non_numeric=[ ''.join(j for j in i if j.isdigit()) for i in lis1 ]\n",
    "print(non_numeric)"
   ]
  },
  {
   "cell_type": "raw",
   "id": "e234561d-4e44-43c7-adde-ed9694b19080",
   "metadata": {},
   "source": [
    "CHALLENGE LEVEL FOR LOOP QUESTIONS"
   ]
  },
  {
   "cell_type": "raw",
   "id": "3cc23bd4-e9f7-4aaf-bf3a-f572c189164d",
   "metadata": {},
   "source": [
    "31. Write a program to generate a list of prime numbers using the Sieve of Eratosthenes algorithm and list\n",
    "comprehension."
   ]
  },
  {
   "cell_type": "code",
   "execution_count": 35,
   "id": "fb88eec3-bd41-4af0-82e1-8f8447c55d64",
   "metadata": {},
   "outputs": [
    {
     "name": "stdin",
     "output_type": "stream",
     "text": [
      "Enter the limit 30\n"
     ]
    },
    {
     "name": "stdout",
     "output_type": "stream",
     "text": [
      "[0, 1, 2, 3, 4, 5, 6, 7, 8, 9, 10, 11, 12, 13, 14, 15, 16, 17, 18, 19, 20, 21, 22, 23, 24, 25, 26, 27, 28, 29, 30]\n",
      "list of prime numbers for the range 30 are\n",
      "2 3 5 7 11 13 17 19 23 29 \n",
      "[0, 0, 2, 3, 0, 5, 0, 7, 0, 0, 0, 11, 0, 13, 0, 0, 0, 17, 0, 19, 0, 0, 0, 23, 0, 0, 0, 0, 0, 29, 0]\n"
     ]
    }
   ],
   "source": [
    "##getting limit from user\n",
    "num=int(input(\"Enter the limit\"))\n",
    "##string all the numbers sarting from 0 to the given limit in a list\n",
    "prime=[i for i in range(num+1)]\n",
    "print(prime)\n",
    "##converting 0,1 in o because both of them are not prime\n",
    "prime[0]=0\n",
    "prime[1]=0\n",
    "##starting the loop from  2\n",
    "p=2\n",
    "##condition for while loop\n",
    "while(p**2<=num):\n",
    "##using for loop checking the divisibility    \n",
    "    for j in range(p*2,num+1,p):\n",
    "##if the number is divisible by any number we convert it into zero        \n",
    "        prime[j]=0\n",
    "##the below line help n increment the number    \n",
    "    p+=1\n",
    "print(f\"list of prime numbers for the range {num} are\")\n",
    "##checking the number if they are not zero then they are prime number\n",
    "for k in range(len(prime)):\n",
    "    if prime[k]!=0:\n",
    "        print(prime[k],end=' ')  \n",
    "print()\n",
    "print(prime)    "
   ]
  },
  {
   "cell_type": "raw",
   "id": "4aee5d50-675c-4e47-aa14-363d1c2abd6b",
   "metadata": {},
   "source": [
    "32. Create a program that generates a list of all Pythagorean triplets up to a specified limit using list\n",
    "comprehension."
   ]
  },
  {
   "cell_type": "code",
   "execution_count": 3,
   "id": "90edcd8d-7d52-4105-b536-08cb8cbeefb4",
   "metadata": {},
   "outputs": [
    {
     "name": "stdin",
     "output_type": "stream",
     "text": [
      "Enter the limit 10\n"
     ]
    },
    {
     "name": "stdout",
     "output_type": "stream",
     "text": [
      "list of all triplets for the given range10 are [(3, 4, 5), (6, 8, 10)]\n"
     ]
    }
   ],
   "source": [
    "##getting input from user\n",
    "num=int(input(\"Enter the limit\"))\n",
    "##using for loop for iterating the values and if condition for checking the triplet condition\n",
    "triplet=[(a,b,c) for a in range(1,num+1) for b in range(a,num+1) for c in range(b,num+1) if a**2+b**2==c**2]\n",
    "print(f\"list of all triplets for the given range{num} are {triplet}\")"
   ]
  },
  {
   "cell_type": "raw",
   "id": "50bca972-72cd-4980-b78b-b0dc46fd6cc9",
   "metadata": {},
   "source": [
    "33. Develop a program that generates a list of all possible combinations of two lists using list comprehension."
   ]
  },
  {
   "cell_type": "code",
   "execution_count": 11,
   "id": "b85d2af4-1152-4aac-afb3-de772b42502e",
   "metadata": {},
   "outputs": [
    {
     "name": "stdin",
     "output_type": "stream",
     "text": [
      "enter the limit 2\n",
      "enter the value 1\n",
      "enter the value 3\n"
     ]
    },
    {
     "name": "stdout",
     "output_type": "stream",
     "text": [
      "['1', '3']\n"
     ]
    },
    {
     "name": "stdin",
     "output_type": "stream",
     "text": [
      "enter the limit 3\n",
      "enter the value a\n",
      "enter the value b\n",
      "enter the value c\n"
     ]
    },
    {
     "name": "stdout",
     "output_type": "stream",
     "text": [
      "['a', 'b', 'c']\n",
      "[('1', 'a'), ('1', 'b'), ('1', 'c'), ('3', 'a'), ('3', 'b'), ('3', 'c')]\n"
     ]
    }
   ],
   "source": [
    "##getting input from user\n",
    "num1=int(input(\"enter the limit\"))\n",
    "##using list comprehension for getting list1\n",
    "list1=[input(\"enter the value\") for i in range(num1)]\n",
    "print(list1)\n",
    "##using list comprehension for getting list2\n",
    "num2=int(input(\"enter the limit\"))\n",
    "list2=[input(\"enter the value\") for i in range(num2)]\n",
    "print(list2)\n",
    "##using for loop on both list for getting combination of two list\n",
    "combination=[(x,y) for x in list1 for y in list2]\n",
    "print(combination)"
   ]
  },
  {
   "cell_type": "raw",
   "id": "e4e3adf9-fddc-46e4-81ed-c9e812f7967f",
   "metadata": {},
   "source": [
    "34. Write a program that calculates the mean, median, and mode of a list of numbers using list\n",
    "comprehension."
   ]
  },
  {
   "cell_type": "code",
   "execution_count": 11,
   "id": "19062d66-83de-4018-ab75-d80ad473b6e7",
   "metadata": {},
   "outputs": [
    {
     "name": "stdin",
     "output_type": "stream",
     "text": [
      "Enter the limit 4\n",
      "Enter the element 8\n",
      "Enter the element 1\n",
      "Enter the element 7\n",
      "Enter the element 3\n"
     ]
    },
    {
     "name": "stdout",
     "output_type": "stream",
     "text": [
      "[8, 1, 7, 3]\n",
      "mean of the[8, 1, 7, 3] is [4.75]\n",
      "median of the [1, 3, 7, 8] is 5.0\n"
     ]
    },
    {
     "name": "stdin",
     "output_type": "stream",
     "text": [
      "enter the limit 5\n",
      "enter the elements 6\n",
      "enter the elements 2\n",
      "enter the elements 7\n",
      "enter the elements 3\n",
      "enter the elements 7\n"
     ]
    },
    {
     "name": "stdout",
     "output_type": "stream",
     "text": [
      "mode is/are: 7\n"
     ]
    }
   ],
   "source": [
    "## mean of the list\n",
    "num=int(input(\"Enter the limit\"))\n",
    "lis1=[int(input(\"Enter the element\")) for i in range(num)]\n",
    "print(lis1)\n",
    "lis2=[sum(lis1)/len(lis1) ]\n",
    "print(f\"mean of the{lis1} is {lis2}\")\n",
    "##median of the list\n",
    "n=len(lis1)\n",
    "lis1.sort()\n",
    "if n%2==0:\n",
    "    median=(lis1[n//2]+lis1[n//2-1])/2\n",
    "else:\n",
    "    median=n/2\n",
    "print(f\"median of the {lis1} is {median}\")    \n",
    "##calculating mode\n",
    "num2=int(input(\"enter the limit\"))\n",
    "lis2=[int(input(\"enter the elements\")) for i in range(num2)]\n",
    "dict1={}\n",
    "for i in lis2:\n",
    "    if i in dict1:\n",
    "        dict1[i]+=1\n",
    "    else:\n",
    "        dict1[i]=1\n",
    "m=max(dict1.values())\n",
    "mode=[key for key,value in dict1.items() if value==m]\n",
    "if len(mode)==len(lis2):\n",
    "    print(\"no mode found\")\n",
    "else:\n",
    "    print(\"mode is/are:\",','.join(map(str,mode)))\n",
    "    "
   ]
  },
  {
   "cell_type": "raw",
   "id": "5790692f-b7fb-4fef-8d0b-654c71782f6d",
   "metadata": {},
   "source": [
    "35. Create a program that generates Pascal's triangle up to a specified number of rows using list\n",
    "comprehension."
   ]
  },
  {
   "cell_type": "code",
   "execution_count": 3,
   "id": "7117d899-623c-40c7-af97-3c6c5a639e59",
   "metadata": {},
   "outputs": [
    {
     "name": "stdin",
     "output_type": "stream",
     "text": [
      "Enter the rows 6\n"
     ]
    },
    {
     "name": "stdout",
     "output_type": "stream",
     "text": [
      "[[1], [1, 1], [1, 2, 1], [1, 3, 3, 1], [1, 4, 6, 4, 1], [1, 5, 10, 10, 5, 1]]\n",
      "          1   \n",
      "        1   1   \n",
      "      1   2   1   \n",
      "    1   3   3   1   \n",
      "  1   4   6   4   1   \n",
      "1   5   10  10  5   1   \n"
     ]
    }
   ],
   "source": [
    "##step1:getting number of rows from user\n",
    "n=int(input(\"Enter the rows\"))\n",
    "list1=[]\n",
    "##step2:making nested loop\n",
    "for i in range(n):\n",
    "    templist=[]\n",
    "    for j in range(i+1):\n",
    "##here we append value 1 if the column ieration is 0 or it's the last iteration i.e. i'\n",
    "        if j==0 or j==i:\n",
    "            templist.append(1)\n",
    "        else:\n",
    "##the mid values of  pascal triangle is the sum of previous row of the triangle. that's why we take here 'i-1' row \n",
    "            templist.append(list1[i-1][j-1]+list1[i-1][j])\n",
    "    list1.append(templist)\n",
    "print(list1)  \n",
    "##step3:making shape of pascal triangle\n",
    "for i in range(n):\n",
    "##with the help of below for loop and print funcion we print space\n",
    "    for j in range(n-i-1):\n",
    "        print(format(\" \",\"<2\"),end='')\n",
    "    for j in range(i+1):\n",
    "        print(format(list1[i][j],\"<3\"),end=' ')  \n",
    "    print()"
   ]
  },
  {
   "cell_type": "raw",
   "id": "c27c2873-e975-477b-abc7-f71204a05ce7",
   "metadata": {},
   "source": [
    "36. Develop a program that calculates the sum of the digits of a factorial of numbers from 1 to 5 using list\n",
    "comprehension."
   ]
  },
  {
   "cell_type": "code",
   "execution_count": 9,
   "id": "bd581366-7a1d-4acb-b604-e55154d6c209",
   "metadata": {},
   "outputs": [
    {
     "name": "stdin",
     "output_type": "stream",
     "text": [
      "enter the limit at which you want factorial 5\n"
     ]
    },
    {
     "name": "stdout",
     "output_type": "stream",
     "text": [
      "factorial of the 5 numbers aree [1, 2, 6, 24, 120]\n",
      "sum of the digits of a factorial of numbers from 1 to 5: [1, 2, 6, 6, 3]\n"
     ]
    }
   ],
   "source": [
    "##getting input from user\n",
    "n=int(input(\"enter the limit at which you want factorial\"))\n",
    "fact=1\n",
    "list1=[]\n",
    "##using for loop for factorial\n",
    "for i in range(1,n+1):\n",
    "    fact=fact*i\n",
    "    list1.append(fact)\n",
    "print(f\"factorial of the {n} numbers aree {list1}\")\n",
    "##using list comprehension for sum of the digits of a factorial\n",
    "list2=[sum(int(j) for j in str(i)) for i in list1]\n",
    "print(f\"sum of the digits of a factorial of numbers from 1 to 5: {list2}\")"
   ]
  },
  {
   "cell_type": "raw",
   "id": "a57bdc59-c07f-4764-82e3-d746c4666eab",
   "metadata": {},
   "source": [
    "37. Write a program that finds the longest word in a sentence using list comprehension."
   ]
  },
  {
   "cell_type": "code",
   "execution_count": 2,
   "id": "8771992c-4709-4e82-b8da-e5a6b2613d46",
   "metadata": {},
   "outputs": [
    {
     "name": "stdin",
     "output_type": "stream",
     "text": [
      "Enter the sentence:  how are you buddies , come here\n"
     ]
    },
    {
     "name": "stdout",
     "output_type": "stream",
     "text": [
      "the length of the longest word is 7\n",
      "the longest word is buddies\n"
     ]
    }
   ],
   "source": [
    "##aking input from user and using split() function for making list of the sentence from space\n",
    "sen=input(\"Enter the sentence:\").split()\n",
    "##here we use max function to get the longest word in the below code if we don't use 'key=len' it'll give outpt on\n",
    "##the basis of alphabetical order in that case 'you' will maximum.here key=len give output basis on length of str\n",
    "longest_word=max(sen,key=len)\n",
    "print(f\"the length of the longest word is {len(longest_word)}\")\n",
    "print(f\"the longest word is {longest_word}\")    "
   ]
  },
  {
   "cell_type": "raw",
   "id": "da2b97ab-c400-4859-9e98-69761769ad0d",
   "metadata": {},
   "source": [
    "38. Create a program that filters a list of strings to include only those with more than three vowels using list\n",
    "comprehension."
   ]
  },
  {
   "cell_type": "code",
   "execution_count": 2,
   "id": "eafd73dd-436b-4468-b139-4eda7d903236",
   "metadata": {},
   "outputs": [
    {
     "name": "stdin",
     "output_type": "stream",
     "text": [
      "how many string yiu want in your list 4\n",
      "enter the string come\n",
      "enter the string considerable\n",
      "enter the string coincident\n",
      "enter the string columbia\n"
     ]
    },
    {
     "name": "stdout",
     "output_type": "stream",
     "text": [
      "list of strings: ['come', 'considerable', 'coincident', 'columbia']\n",
      " list of strings having more than three vowels: ['considerable', 'coincident', 'columbia']\n"
     ]
    }
   ],
   "source": [
    "##when we not write int here it in below line it will treat input as string so when we put 3 at how many string\n",
    "##you want in your list it'll consider it string and the 2nd line loop terminate only 1 time because index of 3 is zero\n",
    "num=int(input(\"how many string yiu want in your list\"))\n",
    "##creating list\n",
    "list1=[input(\"enter the string\") for i in range(num) ]\n",
    "print(f\"list of strings: {list1}\")\n",
    "##filtering the list using list comprehension here we use sum function to calculate the number of vowels\n",
    "vowels=[i for i in list1 if sum(1 if s in 'aeiou' else 0 for s in i)>3]\n",
    "print(f\" list of strings having more than three vowels: {vowels}\")\n",
    "        "
   ]
  },
  {
   "cell_type": "raw",
   "id": "2a73e2db-7c97-4b49-b988-fa5f7afb35d1",
   "metadata": {},
   "source": [
    "39. Develop a program that calculates the sum of the digits of numbers from 1 to 1000 using list\n",
    "comprehension."
   ]
  },
  {
   "cell_type": "code",
   "execution_count": 7,
   "id": "e67a9d89-24b8-4b1f-a174-fa2fcd2cb128",
   "metadata": {},
   "outputs": [
    {
     "name": "stdout",
     "output_type": "stream",
     "text": [
      "sum of the digit of numbers from 1 to 1000\n",
      "[1, 2, 3, 4, 5, 6, 7, 8, 9, 1, 2, 3, 4, 5, 6, 7, 8, 9, 10, 2, 3, 4, 5, 6, 7, 8, 9, 10, 11, 3, 4, 5, 6, 7, 8, 9, 10, 11, 12, 4, 5, 6, 7, 8, 9, 10, 11, 12, 13, 5, 6, 7, 8, 9, 10, 11, 12, 13, 14, 6, 7, 8, 9, 10, 11, 12, 13, 14, 15, 7, 8, 9, 10, 11, 12, 13, 14, 15, 16, 8, 9, 10, 11, 12, 13, 14, 15, 16, 17, 9, 10, 11, 12, 13, 14, 15, 16, 17, 18, 1, 2, 3, 4, 5, 6, 7, 8, 9, 10, 2, 3, 4, 5, 6, 7, 8, 9, 10, 11, 3, 4, 5, 6, 7, 8, 9, 10, 11, 12, 4, 5, 6, 7, 8, 9, 10, 11, 12, 13, 5, 6, 7, 8, 9, 10, 11, 12, 13, 14, 6, 7, 8, 9, 10, 11, 12, 13, 14, 15, 7, 8, 9, 10, 11, 12, 13, 14, 15, 16, 8, 9, 10, 11, 12, 13, 14, 15, 16, 17, 9, 10, 11, 12, 13, 14, 15, 16, 17, 18, 10, 11, 12, 13, 14, 15, 16, 17, 18, 19, 2, 3, 4, 5, 6, 7, 8, 9, 10, 11, 3, 4, 5, 6, 7, 8, 9, 10, 11, 12, 4, 5, 6, 7, 8, 9, 10, 11, 12, 13, 5, 6, 7, 8, 9, 10, 11, 12, 13, 14, 6, 7, 8, 9, 10, 11, 12, 13, 14, 15, 7, 8, 9, 10, 11, 12, 13, 14, 15, 16, 8, 9, 10, 11, 12, 13, 14, 15, 16, 17, 9, 10, 11, 12, 13, 14, 15, 16, 17, 18, 10, 11, 12, 13, 14, 15, 16, 17, 18, 19, 11, 12, 13, 14, 15, 16, 17, 18, 19, 20, 3, 4, 5, 6, 7, 8, 9, 10, 11, 12, 4, 5, 6, 7, 8, 9, 10, 11, 12, 13, 5, 6, 7, 8, 9, 10, 11, 12, 13, 14, 6, 7, 8, 9, 10, 11, 12, 13, 14, 15, 7, 8, 9, 10, 11, 12, 13, 14, 15, 16, 8, 9, 10, 11, 12, 13, 14, 15, 16, 17, 9, 10, 11, 12, 13, 14, 15, 16, 17, 18, 10, 11, 12, 13, 14, 15, 16, 17, 18, 19, 11, 12, 13, 14, 15, 16, 17, 18, 19, 20, 12, 13, 14, 15, 16, 17, 18, 19, 20, 21, 4, 5, 6, 7, 8, 9, 10, 11, 12, 13, 5, 6, 7, 8, 9, 10, 11, 12, 13, 14, 6, 7, 8, 9, 10, 11, 12, 13, 14, 15, 7, 8, 9, 10, 11, 12, 13, 14, 15, 16, 8, 9, 10, 11, 12, 13, 14, 15, 16, 17, 9, 10, 11, 12, 13, 14, 15, 16, 17, 18, 10, 11, 12, 13, 14, 15, 16, 17, 18, 19, 11, 12, 13, 14, 15, 16, 17, 18, 19, 20, 12, 13, 14, 15, 16, 17, 18, 19, 20, 21, 13, 14, 15, 16, 17, 18, 19, 20, 21, 22, 5, 6, 7, 8, 9, 10, 11, 12, 13, 14, 6, 7, 8, 9, 10, 11, 12, 13, 14, 15, 7, 8, 9, 10, 11, 12, 13, 14, 15, 16, 8, 9, 10, 11, 12, 13, 14, 15, 16, 17, 9, 10, 11, 12, 13, 14, 15, 16, 17, 18, 10, 11, 12, 13, 14, 15, 16, 17, 18, 19, 11, 12, 13, 14, 15, 16, 17, 18, 19, 20, 12, 13, 14, 15, 16, 17, 18, 19, 20, 21, 13, 14, 15, 16, 17, 18, 19, 20, 21, 22, 14, 15, 16, 17, 18, 19, 20, 21, 22, 23, 6, 7, 8, 9, 10, 11, 12, 13, 14, 15, 7, 8, 9, 10, 11, 12, 13, 14, 15, 16, 8, 9, 10, 11, 12, 13, 14, 15, 16, 17, 9, 10, 11, 12, 13, 14, 15, 16, 17, 18, 10, 11, 12, 13, 14, 15, 16, 17, 18, 19, 11, 12, 13, 14, 15, 16, 17, 18, 19, 20, 12, 13, 14, 15, 16, 17, 18, 19, 20, 21, 13, 14, 15, 16, 17, 18, 19, 20, 21, 22, 14, 15, 16, 17, 18, 19, 20, 21, 22, 23, 15, 16, 17, 18, 19, 20, 21, 22, 23, 24, 7, 8, 9, 10, 11, 12, 13, 14, 15, 16, 8, 9, 10, 11, 12, 13, 14, 15, 16, 17, 9, 10, 11, 12, 13, 14, 15, 16, 17, 18, 10, 11, 12, 13, 14, 15, 16, 17, 18, 19, 11, 12, 13, 14, 15, 16, 17, 18, 19, 20, 12, 13, 14, 15, 16, 17, 18, 19, 20, 21, 13, 14, 15, 16, 17, 18, 19, 20, 21, 22, 14, 15, 16, 17, 18, 19, 20, 21, 22, 23, 15, 16, 17, 18, 19, 20, 21, 22, 23, 24, 16, 17, 18, 19, 20, 21, 22, 23, 24, 25, 8, 9, 10, 11, 12, 13, 14, 15, 16, 17, 9, 10, 11, 12, 13, 14, 15, 16, 17, 18, 10, 11, 12, 13, 14, 15, 16, 17, 18, 19, 11, 12, 13, 14, 15, 16, 17, 18, 19, 20, 12, 13, 14, 15, 16, 17, 18, 19, 20, 21, 13, 14, 15, 16, 17, 18, 19, 20, 21, 22, 14, 15, 16, 17, 18, 19, 20, 21, 22, 23, 15, 16, 17, 18, 19, 20, 21, 22, 23, 24, 16, 17, 18, 19, 20, 21, 22, 23, 24, 25, 17, 18, 19, 20, 21, 22, 23, 24, 25, 26, 9, 10, 11, 12, 13, 14, 15, 16, 17, 18, 10, 11, 12, 13, 14, 15, 16, 17, 18, 19, 11, 12, 13, 14, 15, 16, 17, 18, 19, 20, 12, 13, 14, 15, 16, 17, 18, 19, 20, 21, 13, 14, 15, 16, 17, 18, 19, 20, 21, 22, 14, 15, 16, 17, 18, 19, 20, 21, 22, 23, 15, 16, 17, 18, 19, 20, 21, 22, 23, 24, 16, 17, 18, 19, 20, 21, 22, 23, 24, 25, 17, 18, 19, 20, 21, 22, 23, 24, 25, 26, 18, 19, 20, 21, 22, 23, 24, 25, 26, 27, 1]\n"
     ]
    }
   ],
   "source": [
    "print(\"sum of the digit of numbers from 1 to 1000\")  \n",
    "##iteraing the range,i and j using list comprehension. we use sum function for adding the digits of the given range\n",
    "##before doinng this first we will make i as string because iteration is not possible for integer\n",
    "list1=[sum(int(j)for j in str(i)) for i in range(1,1001)]\n",
    "print(list1)"
   ]
  },
  {
   "cell_type": "raw",
   "id": "d027de49-8d1d-4c10-b7b3-2d366329c25e",
   "metadata": {},
   "source": [
    "40. Write a program that generates a list of prime palindromic numbers using list comprehension."
   ]
  },
  {
   "cell_type": "code",
   "execution_count": 2,
   "id": "3f7614cc-447b-4ef0-92f6-f236e81acf2b",
   "metadata": {},
   "outputs": [
    {
     "name": "stdout",
     "output_type": "stream",
     "text": [
      "list of prime pallindromic numbers upto 1000\n",
      "2 3 5 7 11 101 131 151 181 191 313 353 373 383 727 757 787 797 919 929 "
     ]
    }
   ],
   "source": [
    "##without list comprehension\n",
    "print(\"list of prime pallindromic numbers upto 1000\")\n",
    "for i in range(2,1001):\n",
    "    for j in range(2,i):\n",
    "        if i%j==0:\n",
    "            break\n",
    "    else:\n",
    "        if str(i)==str(i)[::-1]:\n",
    "            print(i,end=' ')"
   ]
  },
  {
   "cell_type": "code",
   "execution_count": 10,
   "id": "84a273df-72e1-4609-b9bc-152b4ee5ceac",
   "metadata": {},
   "outputs": [
    {
     "name": "stdout",
     "output_type": "stream",
     "text": [
      "prime pallindrome numbers are upto 1000:[2, 3, 5, 7, 11, 101, 131, 151, 181, 191, 313, 353, 373, 383, 727, 757, 787, 797, 919, 929]\n"
     ]
    }
   ],
   "source": [
    "##using list comprehension\n",
    "prime_pallindrome=[i for i in range(2,1001) if all(i%j!=0 for j in range(2,i)) and str(i)==str(i)[::-1]]\n",
    "print(f\"prime pallindrome numbers are upto 1000:{prime_pallindrome}\")"
   ]
  },
  {
   "cell_type": "code",
   "execution_count": null,
   "id": "5eb06723-966b-4491-a7d1-c3abc0a37895",
   "metadata": {},
   "outputs": [],
   "source": []
  }
 ],
 "metadata": {
  "kernelspec": {
   "display_name": "Python 3 (ipykernel)",
   "language": "python",
   "name": "python3"
  },
  "language_info": {
   "codemirror_mode": {
    "name": "ipython",
    "version": 3
   },
   "file_extension": ".py",
   "mimetype": "text/x-python",
   "name": "python",
   "nbconvert_exporter": "python",
   "pygments_lexer": "ipython3",
   "version": "3.10.8"
  }
 },
 "nbformat": 4,
 "nbformat_minor": 5
}
